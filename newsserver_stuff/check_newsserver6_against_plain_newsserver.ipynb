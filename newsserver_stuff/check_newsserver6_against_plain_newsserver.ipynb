{
 "cells": [
  {
   "cell_type": "code",
   "execution_count": 1,
   "id": "4d12a3b0",
   "metadata": {},
   "outputs": [],
   "source": [
    "#!/usr/bin/env python3\n",
    "\n",
    "import socket\n",
    "import ssl\n",
    "\n",
    "def check_news6_with_news4_certifcate(hostname6, hostname4, verbose=True):\n",
    "    if verbose:\n",
    "        print(f'Checking {hostname6} with certificate from {hostname4} ... ', end ='')\n",
    "        \n",
    "    \n",
    "    # hostname6 must have an IPv6 address    \n",
    "    try:\n",
    "        hostip6 = socket.getaddrinfo(hostname6, 563, socket.AF_INET6)[0][4][0]\n",
    "    except:\n",
    "        if verbose:\n",
    "            print(f'Not OK: no IPv6 address for {hostname6}')\n",
    "        return False\n",
    "    \n",
    "    # ... and hostname6 must NOT have an IPv4 address, because if so ... just use that hostname6 dualstack\n",
    "    try:\n",
    "        hostip4 = socket.getaddrinfo(hostname6, 563, socket.AF_INET)[0][4][0]\n",
    "        if verbose:\n",
    "            print(f'Note: {hostname6} does have an IPv4 address too, so use that!')\n",
    "    except:\n",
    "        # good\n",
    "        pass\n",
    "    \n",
    "    \n",
    "    context = ssl.create_default_context()\n",
    "\n",
    "    try:\n",
    "        # connect to IPv6 address:\n",
    "        with socket.create_connection((hostip6, 563)) as sock:\n",
    "            # but it must accept \"hostname4\" for the TLS session\n",
    "            with context.wrap_socket(sock, server_hostname=hostname4) as ssock:\n",
    "                #print(ssock.version())\n",
    "                if verbose:\n",
    "                    print(\"OK\")\n",
    "                return True\n",
    "\n",
    "    except:\n",
    "            if verbose:\n",
    "                print(\"not OK\")\n",
    "            return False"
   ]
  },
  {
   "cell_type": "code",
   "execution_count": 2,
   "id": "c4c708b1",
   "metadata": {},
   "outputs": [
    {
     "name": "stdout",
     "output_type": "stream",
     "text": [
      "Checking news6.eweka.nl with certificate from news.eweka.nl ... OK\n"
     ]
    },
    {
     "data": {
      "text/plain": [
       "True"
      ]
     },
     "execution_count": 2,
     "metadata": {},
     "output_type": "execute_result"
    }
   ],
   "source": [
    "check_news6_with_news4_certifcate(\"news6.eweka.nl\", \"news.eweka.nl\")"
   ]
  },
  {
   "cell_type": "code",
   "execution_count": 3,
   "id": "c04d6fca",
   "metadata": {},
   "outputs": [],
   "source": [
    "# from https://www.appelboor.com/newsservers/newsservers-with-SSL---OK---sorted.csv \n",
    "mycsv = r'/home/sander/git/anything_everything/newsserver_stuff/newsservers-with-SSL---OK---sorted.csv'\n"
   ]
  },
  {
   "cell_type": "code",
   "execution_count": 12,
   "id": "3c303578",
   "metadata": {
    "scrolled": false
   },
   "outputs": [],
   "source": [
    "import csv\n",
    "\n",
    "with open(mycsv, newline='') as csvfile:\n",
    "    data = list(csv.reader(csvfile))\n",
    "\n"
   ]
  },
  {
   "cell_type": "code",
   "execution_count": 16,
   "id": "d076c759",
   "metadata": {},
   "outputs": [
    {
     "name": "stdout",
     "output_type": "stream",
     "text": [
      "Checking eu6.astraweb.com with certificate from eu.astraweb.com ... OK\n",
      "Checking news6.astraweb.com with certificate from news.astraweb.com ... OK\n",
      "Checking us6.astraweb.com with certificate from us.astraweb.com ... OK\n",
      "Checking eunews2-v6.blocknews.net with certificate from eunews2.blocknews.net ... OK\n",
      "Checking eunews-v6.blocknews.net with certificate from eunews.blocknews.net ... OK\n",
      "Checking usnews-v6.blocknews.net with certificate from usnews.blocknews.net ... OK\n",
      "Checking news6.dwld.link with certificate from news.dwld.link ... OK\n",
      "Checking news6.easynews.com with certificate from news.easynews.com ... OK\n",
      "Checking news6.eu.easynews.com with certificate from news.eu.easynews.com ... OK\n",
      "Checking news6.us.easynews.com with certificate from news.us.easynews.com ... OK\n",
      "Checking secure6.news.easynews.com with certificate from secure.news.easynews.com ... OK\n",
      "Checking secure6.news.eu.easynews.com with certificate from secure.news.eu.easynews.com ... OK\n",
      "Checking secure6.news.us.easynews.com with certificate from secure.news.us.easynews.com ... not OK\n",
      "Checking test-eu-ipv6.news.easynews.com with certificate from test-eu-ipv4.news.easynews.com ... OK\n",
      "Checking test-secure-eu-ipv6.news.easynews.com with certificate from test-secure-eu-ipv4.news.easynews.com ... OK\n",
      "Checking test-secure-us-ipv6.news.easynews.com with certificate from test-secure-us-ipv4.news.easynews.com ... OK\n",
      "Checking test-us-ipv6.news.easynews.com with certificate from test-us-ipv4.news.easynews.com ... OK\n",
      "Checking news6.eweka.nl with certificate from news.eweka.nl ... OK\n",
      "Checking post6.eweka.nl with certificate from post.eweka.nl ... OK\n",
      "Checking eunews2-v6.frugalusenet.com with certificate from eunews2.frugalusenet.com ... OK\n",
      "Checking eunews-v6.frugalusenet.com with certificate from eunews.frugalusenet.com ... OK\n",
      "Checking news-v6.frugalusenet.com with certificate from news.frugalusenet.com ... OK\n",
      "Checking news6.ams.newshosting.com with certificate from news.ams.newshosting.com ... OK\n",
      "Checking news6.fr7.newshosting.com with certificate from news.fr7.newshosting.com ... OK\n",
      "Checking news6.iad.newshosting.com with certificate from news.iad.newshosting.com ... OK\n",
      "Checking news6.newshosting.com with certificate from news.newshosting.com ... OK\n",
      "Checking news-de6.newshosting.com with certificate from news-de.newshosting.com ... OK\n",
      "Checking news-eu6.newshosting.com with certificate from news-eu.newshosting.com ... OK\n",
      "Checking news-nl6.newshosting.com with certificate from news-nl.newshosting.com ... OK\n",
      "Checking news-us6.newshosting.com with certificate from news-us.newshosting.com ... OK\n",
      "Checking reader6.newsxs.nl with certificate from reader.newsxs.nl ... OK\n",
      "Checking news6.pureusenet.nl with certificate from news.pureusenet.nl ... OK\n",
      "Checking news6.sunnyusenet.com with certificate from news.sunnyusenet.com ... OK\n",
      "Checking news6.tweaknews.eu with certificate from news.tweaknews.eu ... OK\n",
      "Checking news6.tweaknews.nl with certificate from news.tweaknews.nl ... OK\n",
      "Checking news6.usenet.farm with certificate from news.usenet.farm ... OK\n",
      "Checking eunews2-v6.usenetnow.net with certificate from eunews2.usenetnow.net ... OK\n",
      "Checking eunews-v6.usenetnow.net with certificate from eunews.usenetnow.net ... OK\n",
      "Checking usnews-v6.usenetnow.net with certificate from usnews.usenetnow.net ... OK\n",
      "Checking news6.ams.usenetserver.com with certificate from news.ams.usenetserver.com ... OK\n",
      "Checking news6.eu.usenetserver.com with certificate from news.eu.usenetserver.com ... OK\n",
      "Checking news6.fr7.usenetserver.com with certificate from news.fr7.usenetserver.com ... OK\n",
      "Checking news6.iad.usenetserver.com with certificate from news.iad.usenetserver.com ... OK\n",
      "Checking news6.usenetserver.com with certificate from news.usenetserver.com ... OK\n",
      "Checking news-eu6.usenetserver.com with certificate from news-eu.usenetserver.com ... OK\n",
      "Checking news-us6.usenetserver.com with certificate from news-us.usenetserver.com ... OK\n",
      "Checking news6.xlned.com with certificate from news.xlned.com ... OK\n",
      "47\n"
     ]
    }
   ],
   "source": [
    "counter = 0\n",
    "for i in data:\n",
    "    if i[1]=='IPv6-only':\n",
    "        host6 = i[0]\n",
    "        plainhost = host6.replace(\"-ipv6.\",\"-ipv4.\").replace(\"-v6.\",\".\").replace(\"6.\",\".\")\n",
    "        #print(host6, plainhost)\n",
    "        check_news6_with_news4_certifcate(host6, plainhost)\n",
    "        counter += 1\n",
    "print(counter)\n",
    "        "
   ]
  },
  {
   "cell_type": "code",
   "execution_count": null,
   "id": "f1fd285f",
   "metadata": {},
   "outputs": [],
   "source": []
  }
 ],
 "metadata": {
  "kernelspec": {
   "display_name": "Python 3 (ipykernel)",
   "language": "python",
   "name": "python3"
  },
  "language_info": {
   "codemirror_mode": {
    "name": "ipython",
    "version": 3
   },
   "file_extension": ".py",
   "mimetype": "text/x-python",
   "name": "python",
   "nbconvert_exporter": "python",
   "pygments_lexer": "ipython3",
   "version": "3.11.5"
  }
 },
 "nbformat": 4,
 "nbformat_minor": 5
}
